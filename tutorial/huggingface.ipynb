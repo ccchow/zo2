{
 "cells": [
  {
   "cell_type": "markdown",
   "metadata": {},
   "source": [
    "## Quick Start"
   ]
  },
  {
   "cell_type": "code",
   "execution_count": null,
   "metadata": {},
   "outputs": [],
   "source": [
    "import sys\n",
    "sys.path.append(\"../zo2\")\n",
    "\n",
    "from tqdm.auto import tqdm\n",
    "import torch\n",
    "from transformers import (\n",
    "    GPT2Tokenizer,\n",
    "    TrainingArguments,\n",
    "    Trainer,\n",
    "    pipeline,\n",
    ")\n",
    "from zo2 import (\n",
    "    ZOConfig,\n",
    "    zo2_hf_init,\n",
    ")"
   ]
  },
  {
   "cell_type": "code",
   "execution_count": null,
   "metadata": {},
   "outputs": [],
   "source": [
    "# Hyperparameter\n",
    "batch_size = 1\n",
    "max_step = 20\n",
    "device = \"cuda\""
   ]
  },
  {
   "cell_type": "code",
   "execution_count": null,
   "metadata": {},
   "outputs": [],
   "source": [
    "# ZO steps\n",
    "zo_config = ZOConfig(method=\"mezo-sgd\", zo2=False)\n",
    "with zo2_hf_init(zo_config):\n",
    "    from transformers import OPTForCausalLM\n",
    "    model = OPTForCausalLM.from_pretrained(\"facebook/opt-125m\")\n",
    "    model.zo_init(zo_config)\n",
    "model.to(device)"
   ]
  },
  {
   "cell_type": "code",
   "execution_count": null,
   "metadata": {},
   "outputs": [],
   "source": [
    "# Prepare some data\n",
    "B, V, T = batch_size, model.config.vocab_size, model.config.max_position_embeddings\n",
    "data_batch = torch.randint(0, V, (B, T+1)).to(device)\n",
    "input_ids = data_batch[:, :T]\n",
    "labels = data_batch[:, 1:T+1]"
   ]
  },
  {
   "cell_type": "code",
   "execution_count": null,
   "metadata": {},
   "outputs": [],
   "source": [
    "# Training loop\n",
    "for i in tqdm(range(max_step)):\n",
    "    # train\n",
    "    model.zo_training = True\n",
    "    loss = model(input_ids=input_ids, labels=labels)\n",
    "    res = \"Iteration {}, loss: {}, projected grad: {}\"\n",
    "    tqdm.write(res.format(i, loss, model.opt.projected_grad))\n",
    "\n",
    "    # eval\n",
    "    model.zo_training = False\n",
    "    loss = model(input_ids=input_ids, labels=labels)\n",
    "    res = \"Iteration {}, eval loss: {}\"\n",
    "    tqdm.write(res.format(i, loss))"
   ]
  },
  {
   "cell_type": "code",
   "execution_count": null,
   "metadata": {},
   "outputs": [],
   "source": [
    "# inference\n",
    "tokenizer = GPT2Tokenizer.from_pretrained(\"gpt2\")\n",
    "model.zo_training = False\n",
    "model.cpu()\n",
    "generator = pipeline('text-generation', model=model, tokenizer=tokenizer)\n",
    "prompt = \"What are we having for dinner?\"\n",
    "generated_text = generator(prompt)[0][\"generated_text\"]\n",
    "print(f\"Question: {prompt}\\nAnswer: {generated_text}\")"
   ]
  },
  {
   "cell_type": "markdown",
   "metadata": {},
   "source": [
    "## Using Huggingface Trainer"
   ]
  },
  {
   "cell_type": "code",
   "execution_count": null,
   "metadata": {},
   "outputs": [],
   "source": [
    "# ZO steps\n",
    "zo_config = ZOConfig(method=\"mezo-sgd\", zo2=False)\n",
    "with zo2_hf_init(zo_config):\n",
    "    model = OPTForCausalLM.from_pretrained(\"facebook/opt-125m\")\n",
    "print(f\"Check if zo2 init correctly: {hasattr(model, \"zo_training\")}\")"
   ]
  },
  {
   "cell_type": "code",
   "execution_count": null,
   "metadata": {},
   "outputs": [],
   "source": [
    "# normal trainer steps\n",
    "training_args = TrainingArguments(\"test-trainer\", evaluation_strategy=\"epoch\")\n",
    "\n",
    "trainer = Trainer(\n",
    "    model,\n",
    "    training_args,\n",
    "    train_dataset=tokenized_datasets[\"train\"],\n",
    "    eval_dataset=tokenized_datasets[\"validation\"],\n",
    "    data_collator=data_collator,\n",
    "    tokenizer=tokenizer,\n",
    "    compute_metrics=compute_metrics,\n",
    ")"
   ]
  },
  {
   "cell_type": "code",
   "execution_count": null,
   "metadata": {},
   "outputs": [],
   "source": [
    "trainer.train()"
   ]
  }
 ],
 "metadata": {
  "kernelspec": {
   "display_name": "mezo",
   "language": "python",
   "name": "python3"
  },
  "language_info": {
   "name": "python",
   "version": "3.11.9"
  }
 },
 "nbformat": 4,
 "nbformat_minor": 2
}
